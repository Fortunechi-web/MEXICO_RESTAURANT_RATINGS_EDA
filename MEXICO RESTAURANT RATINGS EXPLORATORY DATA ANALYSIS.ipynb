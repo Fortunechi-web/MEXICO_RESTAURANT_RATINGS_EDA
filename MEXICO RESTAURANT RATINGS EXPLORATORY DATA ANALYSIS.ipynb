{
 "cells": [
  {
   "cell_type": "markdown",
   "id": "6c782e63",
   "metadata": {},
   "source": [
    "# Objective"
   ]
  },
  {
   "cell_type": "markdown",
   "id": "8785552a",
   "metadata": {},
   "source": [
    "### The objective of this project is to analysis and find useful data driven insights that will enhance improvement and decisions in restaurants in Mexico."
   ]
  },
  {
   "cell_type": "code",
   "execution_count": null,
   "id": "c072d97d",
   "metadata": {},
   "outputs": [],
   "source": []
  },
  {
   "cell_type": "markdown",
   "id": "c70174c8",
   "metadata": {},
   "source": [
    "# Data Description"
   ]
  },
  {
   "cell_type": "markdown",
   "id": "26581c0a",
   "metadata": {},
   "source": [
    "### Restaurant ratings in Mexico by real consumers from 2012, including additional information about each restaurant and their cuisines, and each consumer and their preferences."
   ]
  },
  {
   "cell_type": "code",
   "execution_count": null,
   "id": "69dd118c",
   "metadata": {},
   "outputs": [],
   "source": []
  },
  {
   "cell_type": "markdown",
   "id": "b91cb2d4",
   "metadata": {},
   "source": [
    "# Importing The Dependencies"
   ]
  },
  {
   "cell_type": "code",
   "execution_count": 1,
   "id": "68e9409e",
   "metadata": {},
   "outputs": [],
   "source": [
    "import pandas as pd\n",
    "import numpy as np\n",
    "import matplotlib.pyplot as plt\n",
    "%matplotlib inline\n",
    "import seaborn as sns\n",
    "sns.set_style('darkgrid')\n",
    "pd.set_option(\"Display.max_columns\", None)"
   ]
  },
  {
   "cell_type": "code",
   "execution_count": null,
   "id": "8a5e3e21",
   "metadata": {},
   "outputs": [],
   "source": []
  },
  {
   "cell_type": "markdown",
   "id": "476d4357",
   "metadata": {},
   "source": [
    "# Importing The Dataset"
   ]
  },
  {
   "cell_type": "code",
   "execution_count": 2,
   "id": "d9df9dfa",
   "metadata": {},
   "outputs": [],
   "source": [
    "data1 = pd.read_csv('C:\\\\Users\\\\LENOVO USER\\\\Downloads\\\\restaurants.csv')\n",
    "data2 = pd.read_csv('C:\\\\Users\\\\LENOVO USER\\\\Downloads\\\\restaurant_cuisines.csv')\n",
    "data3 = pd.read_csv('C:\\\\Users\\\\LENOVO USER\\\\Downloads\\\\consumers.csv')\n",
    "data4 = pd.read_csv('C:\\\\Users\\\\LENOVO USER\\\\Downloads\\\\consumer_preferences.csv')\n",
    "data5 = pd.read_csv('C:\\\\Users\\\\LENOVO USER\\\\Downloads\\\\ratings.csv')\n"
   ]
  },
  {
   "cell_type": "code",
   "execution_count": 3,
   "id": "b47d84ed",
   "metadata": {},
   "outputs": [],
   "source": [
    "Restaurant_data = pd.concat([data1, data2, data3, data4, data5])"
   ]
  },
  {
   "cell_type": "code",
   "execution_count": null,
   "id": "9bb62554",
   "metadata": {},
   "outputs": [],
   "source": []
  },
  {
   "cell_type": "markdown",
   "id": "34dfc8fd",
   "metadata": {},
   "source": [
    "# Display Top Five of The Dataset"
   ]
  },
  {
   "cell_type": "code",
   "execution_count": 4,
   "id": "22dc4b45",
   "metadata": {},
   "outputs": [
    {
     "data": {
      "text/html": [
       "<div>\n",
       "<style scoped>\n",
       "    .dataframe tbody tr th:only-of-type {\n",
       "        vertical-align: middle;\n",
       "    }\n",
       "\n",
       "    .dataframe tbody tr th {\n",
       "        vertical-align: top;\n",
       "    }\n",
       "\n",
       "    .dataframe thead th {\n",
       "        text-align: right;\n",
       "    }\n",
       "</style>\n",
       "<table border=\"1\" class=\"dataframe\">\n",
       "  <thead>\n",
       "    <tr style=\"text-align: right;\">\n",
       "      <th></th>\n",
       "      <th>Restaurant_ID</th>\n",
       "      <th>Name</th>\n",
       "      <th>City</th>\n",
       "      <th>State</th>\n",
       "      <th>Country</th>\n",
       "      <th>Zip_Code</th>\n",
       "      <th>Latitude</th>\n",
       "      <th>Longitude</th>\n",
       "      <th>Alcohol_Service</th>\n",
       "      <th>Smoking_Allowed</th>\n",
       "      <th>Price</th>\n",
       "      <th>Franchise</th>\n",
       "      <th>Area</th>\n",
       "      <th>Parking</th>\n",
       "      <th>Cuisine</th>\n",
       "      <th>Consumer_ID</th>\n",
       "      <th>Smoker</th>\n",
       "      <th>Drink_Level</th>\n",
       "      <th>Transportation_Method</th>\n",
       "      <th>Marital_Status</th>\n",
       "      <th>Children</th>\n",
       "      <th>Age</th>\n",
       "      <th>Occupation</th>\n",
       "      <th>Budget</th>\n",
       "      <th>Preferred_Cuisine</th>\n",
       "      <th>Overall_Rating</th>\n",
       "      <th>Food_Rating</th>\n",
       "      <th>Service_Rating</th>\n",
       "    </tr>\n",
       "  </thead>\n",
       "  <tbody>\n",
       "    <tr>\n",
       "      <th>0</th>\n",
       "      <td>132560.0</td>\n",
       "      <td>Puesto de Gorditas</td>\n",
       "      <td>Ciudad Victoria</td>\n",
       "      <td>Tamaulipas</td>\n",
       "      <td>Mexico</td>\n",
       "      <td>NaN</td>\n",
       "      <td>23.752304</td>\n",
       "      <td>-99.166913</td>\n",
       "      <td>None</td>\n",
       "      <td>Yes</td>\n",
       "      <td>Low</td>\n",
       "      <td>No</td>\n",
       "      <td>Open</td>\n",
       "      <td>Public</td>\n",
       "      <td>NaN</td>\n",
       "      <td>NaN</td>\n",
       "      <td>NaN</td>\n",
       "      <td>NaN</td>\n",
       "      <td>NaN</td>\n",
       "      <td>NaN</td>\n",
       "      <td>NaN</td>\n",
       "      <td>NaN</td>\n",
       "      <td>NaN</td>\n",
       "      <td>NaN</td>\n",
       "      <td>NaN</td>\n",
       "      <td>NaN</td>\n",
       "      <td>NaN</td>\n",
       "      <td>NaN</td>\n",
       "    </tr>\n",
       "    <tr>\n",
       "      <th>1</th>\n",
       "      <td>132561.0</td>\n",
       "      <td>Cafe Ambar</td>\n",
       "      <td>Ciudad Victoria</td>\n",
       "      <td>Tamaulipas</td>\n",
       "      <td>Mexico</td>\n",
       "      <td>NaN</td>\n",
       "      <td>23.726819</td>\n",
       "      <td>-99.126506</td>\n",
       "      <td>None</td>\n",
       "      <td>No</td>\n",
       "      <td>Low</td>\n",
       "      <td>No</td>\n",
       "      <td>Closed</td>\n",
       "      <td>None</td>\n",
       "      <td>NaN</td>\n",
       "      <td>NaN</td>\n",
       "      <td>NaN</td>\n",
       "      <td>NaN</td>\n",
       "      <td>NaN</td>\n",
       "      <td>NaN</td>\n",
       "      <td>NaN</td>\n",
       "      <td>NaN</td>\n",
       "      <td>NaN</td>\n",
       "      <td>NaN</td>\n",
       "      <td>NaN</td>\n",
       "      <td>NaN</td>\n",
       "      <td>NaN</td>\n",
       "      <td>NaN</td>\n",
       "    </tr>\n",
       "    <tr>\n",
       "      <th>2</th>\n",
       "      <td>132564.0</td>\n",
       "      <td>Church's</td>\n",
       "      <td>Ciudad Victoria</td>\n",
       "      <td>Tamaulipas</td>\n",
       "      <td>Mexico</td>\n",
       "      <td>NaN</td>\n",
       "      <td>23.730925</td>\n",
       "      <td>-99.145185</td>\n",
       "      <td>None</td>\n",
       "      <td>No</td>\n",
       "      <td>Low</td>\n",
       "      <td>No</td>\n",
       "      <td>Closed</td>\n",
       "      <td>None</td>\n",
       "      <td>NaN</td>\n",
       "      <td>NaN</td>\n",
       "      <td>NaN</td>\n",
       "      <td>NaN</td>\n",
       "      <td>NaN</td>\n",
       "      <td>NaN</td>\n",
       "      <td>NaN</td>\n",
       "      <td>NaN</td>\n",
       "      <td>NaN</td>\n",
       "      <td>NaN</td>\n",
       "      <td>NaN</td>\n",
       "      <td>NaN</td>\n",
       "      <td>NaN</td>\n",
       "      <td>NaN</td>\n",
       "    </tr>\n",
       "    <tr>\n",
       "      <th>3</th>\n",
       "      <td>132572.0</td>\n",
       "      <td>Cafe Chaires</td>\n",
       "      <td>San Luis Potosi</td>\n",
       "      <td>San Luis Potosi</td>\n",
       "      <td>Mexico</td>\n",
       "      <td>NaN</td>\n",
       "      <td>22.141647</td>\n",
       "      <td>-100.992712</td>\n",
       "      <td>None</td>\n",
       "      <td>No</td>\n",
       "      <td>Low</td>\n",
       "      <td>No</td>\n",
       "      <td>Closed</td>\n",
       "      <td>Yes</td>\n",
       "      <td>NaN</td>\n",
       "      <td>NaN</td>\n",
       "      <td>NaN</td>\n",
       "      <td>NaN</td>\n",
       "      <td>NaN</td>\n",
       "      <td>NaN</td>\n",
       "      <td>NaN</td>\n",
       "      <td>NaN</td>\n",
       "      <td>NaN</td>\n",
       "      <td>NaN</td>\n",
       "      <td>NaN</td>\n",
       "      <td>NaN</td>\n",
       "      <td>NaN</td>\n",
       "      <td>NaN</td>\n",
       "    </tr>\n",
       "    <tr>\n",
       "      <th>4</th>\n",
       "      <td>132583.0</td>\n",
       "      <td>McDonalds Centro</td>\n",
       "      <td>Cuernavaca</td>\n",
       "      <td>Morelos</td>\n",
       "      <td>Mexico</td>\n",
       "      <td>62000.0</td>\n",
       "      <td>18.922290</td>\n",
       "      <td>-99.234332</td>\n",
       "      <td>None</td>\n",
       "      <td>No</td>\n",
       "      <td>Low</td>\n",
       "      <td>Yes</td>\n",
       "      <td>Closed</td>\n",
       "      <td>None</td>\n",
       "      <td>NaN</td>\n",
       "      <td>NaN</td>\n",
       "      <td>NaN</td>\n",
       "      <td>NaN</td>\n",
       "      <td>NaN</td>\n",
       "      <td>NaN</td>\n",
       "      <td>NaN</td>\n",
       "      <td>NaN</td>\n",
       "      <td>NaN</td>\n",
       "      <td>NaN</td>\n",
       "      <td>NaN</td>\n",
       "      <td>NaN</td>\n",
       "      <td>NaN</td>\n",
       "      <td>NaN</td>\n",
       "    </tr>\n",
       "  </tbody>\n",
       "</table>\n",
       "</div>"
      ],
      "text/plain": [
       "   Restaurant_ID                Name             City            State  \\\n",
       "0       132560.0  Puesto de Gorditas  Ciudad Victoria       Tamaulipas   \n",
       "1       132561.0          Cafe Ambar  Ciudad Victoria       Tamaulipas   \n",
       "2       132564.0            Church's  Ciudad Victoria       Tamaulipas   \n",
       "3       132572.0        Cafe Chaires  San Luis Potosi  San Luis Potosi   \n",
       "4       132583.0    McDonalds Centro       Cuernavaca          Morelos   \n",
       "\n",
       "  Country  Zip_Code   Latitude   Longitude Alcohol_Service Smoking_Allowed  \\\n",
       "0  Mexico       NaN  23.752304  -99.166913            None             Yes   \n",
       "1  Mexico       NaN  23.726819  -99.126506            None              No   \n",
       "2  Mexico       NaN  23.730925  -99.145185            None              No   \n",
       "3  Mexico       NaN  22.141647 -100.992712            None              No   \n",
       "4  Mexico   62000.0  18.922290  -99.234332            None              No   \n",
       "\n",
       "  Price Franchise    Area Parking Cuisine Consumer_ID Smoker Drink_Level  \\\n",
       "0   Low        No    Open  Public     NaN         NaN    NaN         NaN   \n",
       "1   Low        No  Closed    None     NaN         NaN    NaN         NaN   \n",
       "2   Low        No  Closed    None     NaN         NaN    NaN         NaN   \n",
       "3   Low        No  Closed     Yes     NaN         NaN    NaN         NaN   \n",
       "4   Low       Yes  Closed    None     NaN         NaN    NaN         NaN   \n",
       "\n",
       "  Transportation_Method Marital_Status Children  Age Occupation Budget  \\\n",
       "0                   NaN            NaN      NaN  NaN        NaN    NaN   \n",
       "1                   NaN            NaN      NaN  NaN        NaN    NaN   \n",
       "2                   NaN            NaN      NaN  NaN        NaN    NaN   \n",
       "3                   NaN            NaN      NaN  NaN        NaN    NaN   \n",
       "4                   NaN            NaN      NaN  NaN        NaN    NaN   \n",
       "\n",
       "  Preferred_Cuisine  Overall_Rating  Food_Rating  Service_Rating  \n",
       "0               NaN             NaN          NaN             NaN  \n",
       "1               NaN             NaN          NaN             NaN  \n",
       "2               NaN             NaN          NaN             NaN  \n",
       "3               NaN             NaN          NaN             NaN  \n",
       "4               NaN             NaN          NaN             NaN  "
      ]
     },
     "execution_count": 4,
     "metadata": {},
     "output_type": "execute_result"
    }
   ],
   "source": [
    "# Let's view the first top 5 of the dataset \n",
    "\n",
    "Restaurant_data.head(5)"
   ]
  },
  {
   "cell_type": "code",
   "execution_count": null,
   "id": "3e5502bd",
   "metadata": {},
   "outputs": [],
   "source": []
  },
  {
   "cell_type": "markdown",
   "id": "61b5e15c",
   "metadata": {},
   "source": [
    "# Display Last Five of The Dataset"
   ]
  },
  {
   "cell_type": "code",
   "execution_count": 5,
   "id": "f3be6a40",
   "metadata": {},
   "outputs": [
    {
     "data": {
      "text/html": [
       "<div>\n",
       "<style scoped>\n",
       "    .dataframe tbody tr th:only-of-type {\n",
       "        vertical-align: middle;\n",
       "    }\n",
       "\n",
       "    .dataframe tbody tr th {\n",
       "        vertical-align: top;\n",
       "    }\n",
       "\n",
       "    .dataframe thead th {\n",
       "        text-align: right;\n",
       "    }\n",
       "</style>\n",
       "<table border=\"1\" class=\"dataframe\">\n",
       "  <thead>\n",
       "    <tr style=\"text-align: right;\">\n",
       "      <th></th>\n",
       "      <th>Restaurant_ID</th>\n",
       "      <th>Name</th>\n",
       "      <th>City</th>\n",
       "      <th>State</th>\n",
       "      <th>Country</th>\n",
       "      <th>Zip_Code</th>\n",
       "      <th>Latitude</th>\n",
       "      <th>Longitude</th>\n",
       "      <th>Alcohol_Service</th>\n",
       "      <th>Smoking_Allowed</th>\n",
       "      <th>Price</th>\n",
       "      <th>Franchise</th>\n",
       "      <th>Area</th>\n",
       "      <th>Parking</th>\n",
       "      <th>Cuisine</th>\n",
       "      <th>Consumer_ID</th>\n",
       "      <th>Smoker</th>\n",
       "      <th>Drink_Level</th>\n",
       "      <th>Transportation_Method</th>\n",
       "      <th>Marital_Status</th>\n",
       "      <th>Children</th>\n",
       "      <th>Age</th>\n",
       "      <th>Occupation</th>\n",
       "      <th>Budget</th>\n",
       "      <th>Preferred_Cuisine</th>\n",
       "      <th>Overall_Rating</th>\n",
       "      <th>Food_Rating</th>\n",
       "      <th>Service_Rating</th>\n",
       "    </tr>\n",
       "  </thead>\n",
       "  <tbody>\n",
       "    <tr>\n",
       "      <th>1156</th>\n",
       "      <td>132630.0</td>\n",
       "      <td>NaN</td>\n",
       "      <td>NaN</td>\n",
       "      <td>NaN</td>\n",
       "      <td>NaN</td>\n",
       "      <td>NaN</td>\n",
       "      <td>NaN</td>\n",
       "      <td>NaN</td>\n",
       "      <td>NaN</td>\n",
       "      <td>NaN</td>\n",
       "      <td>NaN</td>\n",
       "      <td>NaN</td>\n",
       "      <td>NaN</td>\n",
       "      <td>NaN</td>\n",
       "      <td>NaN</td>\n",
       "      <td>U1043</td>\n",
       "      <td>NaN</td>\n",
       "      <td>NaN</td>\n",
       "      <td>NaN</td>\n",
       "      <td>NaN</td>\n",
       "      <td>NaN</td>\n",
       "      <td>NaN</td>\n",
       "      <td>NaN</td>\n",
       "      <td>NaN</td>\n",
       "      <td>NaN</td>\n",
       "      <td>1.0</td>\n",
       "      <td>1.0</td>\n",
       "      <td>1.0</td>\n",
       "    </tr>\n",
       "    <tr>\n",
       "      <th>1157</th>\n",
       "      <td>132715.0</td>\n",
       "      <td>NaN</td>\n",
       "      <td>NaN</td>\n",
       "      <td>NaN</td>\n",
       "      <td>NaN</td>\n",
       "      <td>NaN</td>\n",
       "      <td>NaN</td>\n",
       "      <td>NaN</td>\n",
       "      <td>NaN</td>\n",
       "      <td>NaN</td>\n",
       "      <td>NaN</td>\n",
       "      <td>NaN</td>\n",
       "      <td>NaN</td>\n",
       "      <td>NaN</td>\n",
       "      <td>NaN</td>\n",
       "      <td>U1011</td>\n",
       "      <td>NaN</td>\n",
       "      <td>NaN</td>\n",
       "      <td>NaN</td>\n",
       "      <td>NaN</td>\n",
       "      <td>NaN</td>\n",
       "      <td>NaN</td>\n",
       "      <td>NaN</td>\n",
       "      <td>NaN</td>\n",
       "      <td>NaN</td>\n",
       "      <td>1.0</td>\n",
       "      <td>1.0</td>\n",
       "      <td>0.0</td>\n",
       "    </tr>\n",
       "    <tr>\n",
       "      <th>1158</th>\n",
       "      <td>132733.0</td>\n",
       "      <td>NaN</td>\n",
       "      <td>NaN</td>\n",
       "      <td>NaN</td>\n",
       "      <td>NaN</td>\n",
       "      <td>NaN</td>\n",
       "      <td>NaN</td>\n",
       "      <td>NaN</td>\n",
       "      <td>NaN</td>\n",
       "      <td>NaN</td>\n",
       "      <td>NaN</td>\n",
       "      <td>NaN</td>\n",
       "      <td>NaN</td>\n",
       "      <td>NaN</td>\n",
       "      <td>NaN</td>\n",
       "      <td>U1068</td>\n",
       "      <td>NaN</td>\n",
       "      <td>NaN</td>\n",
       "      <td>NaN</td>\n",
       "      <td>NaN</td>\n",
       "      <td>NaN</td>\n",
       "      <td>NaN</td>\n",
       "      <td>NaN</td>\n",
       "      <td>NaN</td>\n",
       "      <td>NaN</td>\n",
       "      <td>1.0</td>\n",
       "      <td>1.0</td>\n",
       "      <td>0.0</td>\n",
       "    </tr>\n",
       "    <tr>\n",
       "      <th>1159</th>\n",
       "      <td>132594.0</td>\n",
       "      <td>NaN</td>\n",
       "      <td>NaN</td>\n",
       "      <td>NaN</td>\n",
       "      <td>NaN</td>\n",
       "      <td>NaN</td>\n",
       "      <td>NaN</td>\n",
       "      <td>NaN</td>\n",
       "      <td>NaN</td>\n",
       "      <td>NaN</td>\n",
       "      <td>NaN</td>\n",
       "      <td>NaN</td>\n",
       "      <td>NaN</td>\n",
       "      <td>NaN</td>\n",
       "      <td>NaN</td>\n",
       "      <td>U1068</td>\n",
       "      <td>NaN</td>\n",
       "      <td>NaN</td>\n",
       "      <td>NaN</td>\n",
       "      <td>NaN</td>\n",
       "      <td>NaN</td>\n",
       "      <td>NaN</td>\n",
       "      <td>NaN</td>\n",
       "      <td>NaN</td>\n",
       "      <td>NaN</td>\n",
       "      <td>1.0</td>\n",
       "      <td>1.0</td>\n",
       "      <td>1.0</td>\n",
       "    </tr>\n",
       "    <tr>\n",
       "      <th>1160</th>\n",
       "      <td>132660.0</td>\n",
       "      <td>NaN</td>\n",
       "      <td>NaN</td>\n",
       "      <td>NaN</td>\n",
       "      <td>NaN</td>\n",
       "      <td>NaN</td>\n",
       "      <td>NaN</td>\n",
       "      <td>NaN</td>\n",
       "      <td>NaN</td>\n",
       "      <td>NaN</td>\n",
       "      <td>NaN</td>\n",
       "      <td>NaN</td>\n",
       "      <td>NaN</td>\n",
       "      <td>NaN</td>\n",
       "      <td>NaN</td>\n",
       "      <td>U1068</td>\n",
       "      <td>NaN</td>\n",
       "      <td>NaN</td>\n",
       "      <td>NaN</td>\n",
       "      <td>NaN</td>\n",
       "      <td>NaN</td>\n",
       "      <td>NaN</td>\n",
       "      <td>NaN</td>\n",
       "      <td>NaN</td>\n",
       "      <td>NaN</td>\n",
       "      <td>0.0</td>\n",
       "      <td>0.0</td>\n",
       "      <td>0.0</td>\n",
       "    </tr>\n",
       "  </tbody>\n",
       "</table>\n",
       "</div>"
      ],
      "text/plain": [
       "      Restaurant_ID Name City State Country  Zip_Code  Latitude  Longitude  \\\n",
       "1156       132630.0  NaN  NaN   NaN     NaN       NaN       NaN        NaN   \n",
       "1157       132715.0  NaN  NaN   NaN     NaN       NaN       NaN        NaN   \n",
       "1158       132733.0  NaN  NaN   NaN     NaN       NaN       NaN        NaN   \n",
       "1159       132594.0  NaN  NaN   NaN     NaN       NaN       NaN        NaN   \n",
       "1160       132660.0  NaN  NaN   NaN     NaN       NaN       NaN        NaN   \n",
       "\n",
       "     Alcohol_Service Smoking_Allowed Price Franchise Area Parking Cuisine  \\\n",
       "1156             NaN             NaN   NaN       NaN  NaN     NaN     NaN   \n",
       "1157             NaN             NaN   NaN       NaN  NaN     NaN     NaN   \n",
       "1158             NaN             NaN   NaN       NaN  NaN     NaN     NaN   \n",
       "1159             NaN             NaN   NaN       NaN  NaN     NaN     NaN   \n",
       "1160             NaN             NaN   NaN       NaN  NaN     NaN     NaN   \n",
       "\n",
       "     Consumer_ID Smoker Drink_Level Transportation_Method Marital_Status  \\\n",
       "1156       U1043    NaN         NaN                   NaN            NaN   \n",
       "1157       U1011    NaN         NaN                   NaN            NaN   \n",
       "1158       U1068    NaN         NaN                   NaN            NaN   \n",
       "1159       U1068    NaN         NaN                   NaN            NaN   \n",
       "1160       U1068    NaN         NaN                   NaN            NaN   \n",
       "\n",
       "     Children  Age Occupation Budget Preferred_Cuisine  Overall_Rating  \\\n",
       "1156      NaN  NaN        NaN    NaN               NaN             1.0   \n",
       "1157      NaN  NaN        NaN    NaN               NaN             1.0   \n",
       "1158      NaN  NaN        NaN    NaN               NaN             1.0   \n",
       "1159      NaN  NaN        NaN    NaN               NaN             1.0   \n",
       "1160      NaN  NaN        NaN    NaN               NaN             0.0   \n",
       "\n",
       "      Food_Rating  Service_Rating  \n",
       "1156          1.0             1.0  \n",
       "1157          1.0             0.0  \n",
       "1158          1.0             0.0  \n",
       "1159          1.0             1.0  \n",
       "1160          0.0             0.0  "
      ]
     },
     "execution_count": 5,
     "metadata": {},
     "output_type": "execute_result"
    }
   ],
   "source": [
    "# Let's view the last five 5 of the dataset\n",
    "\n",
    "Restaurant_data.tail()"
   ]
  },
  {
   "cell_type": "code",
   "execution_count": null,
   "id": "a18752d4",
   "metadata": {},
   "outputs": [],
   "source": []
  },
  {
   "cell_type": "markdown",
   "id": "7c0cd98e",
   "metadata": {},
   "source": [
    "# Find The Shape of Our Dataset (Number of Rows and Columns)"
   ]
  },
  {
   "cell_type": "code",
   "execution_count": 6,
   "id": "bb8f3ccd",
   "metadata": {},
   "outputs": [
    {
     "data": {
      "text/plain": [
       "(1871, 28)"
      ]
     },
     "execution_count": 6,
     "metadata": {},
     "output_type": "execute_result"
    }
   ],
   "source": [
    "Restaurant_data.shape"
   ]
  },
  {
   "cell_type": "code",
   "execution_count": 7,
   "id": "8c12b4a0",
   "metadata": {},
   "outputs": [
    {
     "name": "stdout",
     "output_type": "stream",
     "text": [
      "Numbers of Rows 1871\n",
      "Numbers of Columns 28\n"
     ]
    }
   ],
   "source": [
    "print('Numbers of Rows', Restaurant_data.shape[0])\n",
    "print('Numbers of Columns', Restaurant_data.shape[1])"
   ]
  },
  {
   "cell_type": "markdown",
   "id": "e0f17ae2",
   "metadata": {},
   "source": [
    "### There are 1871 rows and 28 columns in our dataset."
   ]
  },
  {
   "cell_type": "code",
   "execution_count": null,
   "id": "a0680a88",
   "metadata": {},
   "outputs": [],
   "source": []
  },
  {
   "cell_type": "markdown",
   "id": "cf81baeb",
   "metadata": {},
   "source": [
    "# Get Information About Our Dataset"
   ]
  },
  {
   "cell_type": "code",
   "execution_count": 8,
   "id": "306424db",
   "metadata": {},
   "outputs": [
    {
     "name": "stdout",
     "output_type": "stream",
     "text": [
      "<class 'pandas.core.frame.DataFrame'>\n",
      "Int64Index: 1871 entries, 0 to 1160\n",
      "Data columns (total 28 columns):\n",
      " #   Column                 Non-Null Count  Dtype  \n",
      "---  ------                 --------------  -----  \n",
      " 0   Restaurant_ID          1403 non-null   float64\n",
      " 1   Name                   130 non-null    object \n",
      " 2   City                   268 non-null    object \n",
      " 3   State                  268 non-null    object \n",
      " 4   Country                268 non-null    object \n",
      " 5   Zip_Code               56 non-null     float64\n",
      " 6   Latitude               268 non-null    float64\n",
      " 7   Longitude              268 non-null    float64\n",
      " 8   Alcohol_Service        130 non-null    object \n",
      " 9   Smoking_Allowed        130 non-null    object \n",
      " 10  Price                  130 non-null    object \n",
      " 11  Franchise              130 non-null    object \n",
      " 12  Area                   130 non-null    object \n",
      " 13  Parking                130 non-null    object \n",
      " 14  Cuisine                112 non-null    object \n",
      " 15  Consumer_ID            1629 non-null   object \n",
      " 16  Smoker                 135 non-null    object \n",
      " 17  Drink_Level            138 non-null    object \n",
      " 18  Transportation_Method  131 non-null    object \n",
      " 19  Marital_Status         134 non-null    object \n",
      " 20  Children               127 non-null    object \n",
      " 21  Age                    138 non-null    float64\n",
      " 22  Occupation             131 non-null    object \n",
      " 23  Budget                 131 non-null    object \n",
      " 24  Preferred_Cuisine      330 non-null    object \n",
      " 25  Overall_Rating         1161 non-null   float64\n",
      " 26  Food_Rating            1161 non-null   float64\n",
      " 27  Service_Rating         1161 non-null   float64\n",
      "dtypes: float64(8), object(20)\n",
      "memory usage: 423.9+ KB\n"
     ]
    }
   ],
   "source": [
    "Restaurant_data.info()"
   ]
  },
  {
   "cell_type": "markdown",
   "id": "7eef3b3f",
   "metadata": {},
   "source": [
    "### It was shown that there are Eight(Float64) and Twenty(Object) datatypes in our dataset."
   ]
  },
  {
   "cell_type": "code",
   "execution_count": null,
   "id": "73799f8f",
   "metadata": {},
   "outputs": [],
   "source": []
  },
  {
   "cell_type": "markdown",
   "id": "642bcc80",
   "metadata": {},
   "source": [
    "# Select Only The Necessary Columns"
   ]
  },
  {
   "cell_type": "code",
   "execution_count": 9,
   "id": "c8fb3f15",
   "metadata": {},
   "outputs": [
    {
     "data": {
      "text/plain": [
       "Index(['Restaurant_ID', 'Name', 'City', 'State', 'Country', 'Zip_Code',\n",
       "       'Latitude', 'Longitude', 'Alcohol_Service', 'Smoking_Allowed', 'Price',\n",
       "       'Franchise', 'Area', 'Parking', 'Cuisine', 'Consumer_ID', 'Smoker',\n",
       "       'Drink_Level', 'Transportation_Method', 'Marital_Status', 'Children',\n",
       "       'Age', 'Occupation', 'Budget', 'Preferred_Cuisine', 'Overall_Rating',\n",
       "       'Food_Rating', 'Service_Rating'],\n",
       "      dtype='object')"
      ]
     },
     "execution_count": 9,
     "metadata": {},
     "output_type": "execute_result"
    }
   ],
   "source": [
    "# Let's display the column names\n",
    "\n",
    "Restaurant_data.columns"
   ]
  },
  {
   "cell_type": "code",
   "execution_count": 10,
   "id": "5169a10a",
   "metadata": {},
   "outputs": [],
   "source": [
    "# Let's select the needed features for our analysis\n",
    "\n",
    "Data = Restaurant_data[['Name', 'City', 'State', 'Cuisine', 'Marital_Status', 'Children', 'Age', 'Preferred_Cuisine',\n",
    "                       'Overall_Rating']].copy()"
   ]
  },
  {
   "cell_type": "code",
   "execution_count": 11,
   "id": "9c893d14",
   "metadata": {},
   "outputs": [
    {
     "data": {
      "text/html": [
       "<div>\n",
       "<style scoped>\n",
       "    .dataframe tbody tr th:only-of-type {\n",
       "        vertical-align: middle;\n",
       "    }\n",
       "\n",
       "    .dataframe tbody tr th {\n",
       "        vertical-align: top;\n",
       "    }\n",
       "\n",
       "    .dataframe thead th {\n",
       "        text-align: right;\n",
       "    }\n",
       "</style>\n",
       "<table border=\"1\" class=\"dataframe\">\n",
       "  <thead>\n",
       "    <tr style=\"text-align: right;\">\n",
       "      <th></th>\n",
       "      <th>Name</th>\n",
       "      <th>City</th>\n",
       "      <th>State</th>\n",
       "      <th>Cuisine</th>\n",
       "      <th>Marital_Status</th>\n",
       "      <th>Children</th>\n",
       "      <th>Age</th>\n",
       "      <th>Preferred_Cuisine</th>\n",
       "      <th>Overall_Rating</th>\n",
       "    </tr>\n",
       "  </thead>\n",
       "  <tbody>\n",
       "    <tr>\n",
       "      <th>0</th>\n",
       "      <td>Puesto de Gorditas</td>\n",
       "      <td>Ciudad Victoria</td>\n",
       "      <td>Tamaulipas</td>\n",
       "      <td>NaN</td>\n",
       "      <td>NaN</td>\n",
       "      <td>NaN</td>\n",
       "      <td>NaN</td>\n",
       "      <td>NaN</td>\n",
       "      <td>NaN</td>\n",
       "    </tr>\n",
       "    <tr>\n",
       "      <th>1</th>\n",
       "      <td>Cafe Ambar</td>\n",
       "      <td>Ciudad Victoria</td>\n",
       "      <td>Tamaulipas</td>\n",
       "      <td>NaN</td>\n",
       "      <td>NaN</td>\n",
       "      <td>NaN</td>\n",
       "      <td>NaN</td>\n",
       "      <td>NaN</td>\n",
       "      <td>NaN</td>\n",
       "    </tr>\n",
       "    <tr>\n",
       "      <th>2</th>\n",
       "      <td>Church's</td>\n",
       "      <td>Ciudad Victoria</td>\n",
       "      <td>Tamaulipas</td>\n",
       "      <td>NaN</td>\n",
       "      <td>NaN</td>\n",
       "      <td>NaN</td>\n",
       "      <td>NaN</td>\n",
       "      <td>NaN</td>\n",
       "      <td>NaN</td>\n",
       "    </tr>\n",
       "    <tr>\n",
       "      <th>3</th>\n",
       "      <td>Cafe Chaires</td>\n",
       "      <td>San Luis Potosi</td>\n",
       "      <td>San Luis Potosi</td>\n",
       "      <td>NaN</td>\n",
       "      <td>NaN</td>\n",
       "      <td>NaN</td>\n",
       "      <td>NaN</td>\n",
       "      <td>NaN</td>\n",
       "      <td>NaN</td>\n",
       "    </tr>\n",
       "    <tr>\n",
       "      <th>4</th>\n",
       "      <td>McDonalds Centro</td>\n",
       "      <td>Cuernavaca</td>\n",
       "      <td>Morelos</td>\n",
       "      <td>NaN</td>\n",
       "      <td>NaN</td>\n",
       "      <td>NaN</td>\n",
       "      <td>NaN</td>\n",
       "      <td>NaN</td>\n",
       "      <td>NaN</td>\n",
       "    </tr>\n",
       "  </tbody>\n",
       "</table>\n",
       "</div>"
      ],
      "text/plain": [
       "                 Name             City            State Cuisine  \\\n",
       "0  Puesto de Gorditas  Ciudad Victoria       Tamaulipas     NaN   \n",
       "1          Cafe Ambar  Ciudad Victoria       Tamaulipas     NaN   \n",
       "2            Church's  Ciudad Victoria       Tamaulipas     NaN   \n",
       "3        Cafe Chaires  San Luis Potosi  San Luis Potosi     NaN   \n",
       "4    McDonalds Centro       Cuernavaca          Morelos     NaN   \n",
       "\n",
       "  Marital_Status Children  Age Preferred_Cuisine  Overall_Rating  \n",
       "0            NaN      NaN  NaN               NaN             NaN  \n",
       "1            NaN      NaN  NaN               NaN             NaN  \n",
       "2            NaN      NaN  NaN               NaN             NaN  \n",
       "3            NaN      NaN  NaN               NaN             NaN  \n",
       "4            NaN      NaN  NaN               NaN             NaN  "
      ]
     },
     "execution_count": 11,
     "metadata": {},
     "output_type": "execute_result"
    }
   ],
   "source": [
    "# Let's view the first rows of the selected columns for our analysis\n",
    "\n",
    "Data.head()"
   ]
  },
  {
   "cell_type": "code",
   "execution_count": null,
   "id": "5d82b635",
   "metadata": {},
   "outputs": [],
   "source": []
  },
  {
   "cell_type": "markdown",
   "id": "9d944679",
   "metadata": {},
   "source": [
    "# Check The Null Values in Our Dataset"
   ]
  },
  {
   "cell_type": "code",
   "execution_count": 12,
   "id": "36c1031a",
   "metadata": {},
   "outputs": [
    {
     "data": {
      "text/plain": [
       "Name                 1741\n",
       "City                 1603\n",
       "State                1603\n",
       "Cuisine              1759\n",
       "Marital_Status       1737\n",
       "Children             1744\n",
       "Age                  1733\n",
       "Preferred_Cuisine    1541\n",
       "Overall_Rating        710\n",
       "dtype: int64"
      ]
     },
     "execution_count": 12,
     "metadata": {},
     "output_type": "execute_result"
    }
   ],
   "source": [
    "# Let's the missing valies in our dataset\n",
    "\n",
    "Data.isnull().sum()"
   ]
  },
  {
   "cell_type": "code",
   "execution_count": null,
   "id": "9c623151",
   "metadata": {},
   "outputs": [],
   "source": []
  },
  {
   "cell_type": "markdown",
   "id": "78c5040c",
   "metadata": {},
   "source": [
    "# Handling Missing Values"
   ]
  },
  {
   "cell_type": "markdown",
   "id": "23c2b707",
   "metadata": {},
   "source": [
    "### Mean...... The average value\n",
    "\n",
    "### Mode..... The most repeated value"
   ]
  },
  {
   "cell_type": "code",
   "execution_count": 13,
   "id": "3e6187b5",
   "metadata": {},
   "outputs": [],
   "source": [
    "# Find the mode in the missing values of the 'Name' column\n",
    "\n",
    "Mode = Data['Name'].mode()"
   ]
  },
  {
   "cell_type": "code",
   "execution_count": 14,
   "id": "714c241b",
   "metadata": {},
   "outputs": [
    {
     "name": "stdout",
     "output_type": "stream",
     "text": [
      "0    Vips\n",
      "Name: Name, dtype: object\n"
     ]
    }
   ],
   "source": [
    "print(Mode)"
   ]
  },
  {
   "cell_type": "code",
   "execution_count": 15,
   "id": "35bc176e",
   "metadata": {},
   "outputs": [],
   "source": [
    "# Let's replace the missing values in the 'Name' column with the mode\n",
    "\n",
    "Data['Name'].fillna(Data['Name'].mode()[0], inplace = True)"
   ]
  },
  {
   "cell_type": "code",
   "execution_count": null,
   "id": "0795b644",
   "metadata": {},
   "outputs": [],
   "source": []
  },
  {
   "cell_type": "code",
   "execution_count": 16,
   "id": "412571c4",
   "metadata": {},
   "outputs": [],
   "source": [
    "# Find the mode in the missing values of the 'City' column\n",
    "\n",
    "Mode = Data['City'].mode()"
   ]
  },
  {
   "cell_type": "code",
   "execution_count": 17,
   "id": "8f3aa861",
   "metadata": {},
   "outputs": [
    {
     "name": "stdout",
     "output_type": "stream",
     "text": [
      "0    San Luis Potosi\n",
      "Name: City, dtype: object\n"
     ]
    }
   ],
   "source": [
    "print(Mode)"
   ]
  },
  {
   "cell_type": "code",
   "execution_count": 18,
   "id": "28d425e3",
   "metadata": {},
   "outputs": [],
   "source": [
    "# Let's replace the missing values in the 'City column with the mode\n",
    "\n",
    "Data['City'].fillna(Data['City'].mode()[0], inplace = True)"
   ]
  },
  {
   "cell_type": "code",
   "execution_count": null,
   "id": "cef7ae19",
   "metadata": {},
   "outputs": [],
   "source": []
  },
  {
   "cell_type": "code",
   "execution_count": 19,
   "id": "8e78755b",
   "metadata": {},
   "outputs": [],
   "source": [
    "# Find the mode in the missing values of the 'State' column\n",
    "\n",
    "Mode = Data['State'].mode()"
   ]
  },
  {
   "cell_type": "code",
   "execution_count": 20,
   "id": "c34ba416",
   "metadata": {},
   "outputs": [
    {
     "name": "stdout",
     "output_type": "stream",
     "text": [
      "0    San Luis Potosi\n",
      "Name: State, dtype: object\n"
     ]
    }
   ],
   "source": [
    "print(Mode)"
   ]
  },
  {
   "cell_type": "code",
   "execution_count": 21,
   "id": "042987a6",
   "metadata": {},
   "outputs": [],
   "source": [
    "# Let's replace the missing values in the State' column with the mode\n",
    "\n",
    "Data['State'].fillna(Data['State'].mode()[0], inplace = True)"
   ]
  },
  {
   "cell_type": "code",
   "execution_count": null,
   "id": "2fbc7704",
   "metadata": {},
   "outputs": [],
   "source": []
  },
  {
   "cell_type": "code",
   "execution_count": 22,
   "id": "2dcee69e",
   "metadata": {},
   "outputs": [],
   "source": [
    "# Find the mode in the missing values of the 'Cuisine' column\n",
    "\n",
    "Mode = Data['Cuisine'].mode()"
   ]
  },
  {
   "cell_type": "code",
   "execution_count": 23,
   "id": "f4faca14",
   "metadata": {},
   "outputs": [
    {
     "name": "stdout",
     "output_type": "stream",
     "text": [
      "0    Mexican\n",
      "Name: Cuisine, dtype: object\n"
     ]
    }
   ],
   "source": [
    "print(Mode)"
   ]
  },
  {
   "cell_type": "code",
   "execution_count": 24,
   "id": "9bd01d52",
   "metadata": {},
   "outputs": [],
   "source": [
    "# Let's replace the missing values in the Cuisine' column with the mode\n",
    "\n",
    "Data['Cuisine'].fillna(Data['Cuisine'].mode()[0], inplace = True)"
   ]
  },
  {
   "cell_type": "code",
   "execution_count": null,
   "id": "30b35ca1",
   "metadata": {},
   "outputs": [],
   "source": []
  },
  {
   "cell_type": "code",
   "execution_count": 25,
   "id": "0f6da5a1",
   "metadata": {},
   "outputs": [],
   "source": [
    "# Find the mode in the missing values of the 'Marital_Status' column\n",
    "\n",
    "Mode = Data['Marital_Status'].mode()"
   ]
  },
  {
   "cell_type": "code",
   "execution_count": 26,
   "id": "dea8c95f",
   "metadata": {},
   "outputs": [
    {
     "name": "stdout",
     "output_type": "stream",
     "text": [
      "0    Single\n",
      "Name: Marital_Status, dtype: object\n"
     ]
    }
   ],
   "source": [
    "print(Mode)"
   ]
  },
  {
   "cell_type": "code",
   "execution_count": 27,
   "id": "738552f9",
   "metadata": {},
   "outputs": [],
   "source": [
    "# Let's replace the missing values in the 'Country' column with the mode\n",
    "\n",
    "Data['Marital_Status'].fillna(Data['Marital_Status'].mode()[0], inplace = True)"
   ]
  },
  {
   "cell_type": "code",
   "execution_count": null,
   "id": "ccab6110",
   "metadata": {},
   "outputs": [],
   "source": []
  },
  {
   "cell_type": "code",
   "execution_count": 28,
   "id": "4e9fc18d",
   "metadata": {},
   "outputs": [],
   "source": [
    "# Find the mode in the missing values of the 'Children' column\n",
    "\n",
    "Mode = Data['Children'].mode()"
   ]
  },
  {
   "cell_type": "code",
   "execution_count": 29,
   "id": "a805fa11",
   "metadata": {},
   "outputs": [
    {
     "name": "stdout",
     "output_type": "stream",
     "text": [
      "0    Independent\n",
      "Name: Children, dtype: object\n"
     ]
    }
   ],
   "source": [
    "print(Mode)"
   ]
  },
  {
   "cell_type": "code",
   "execution_count": 30,
   "id": "9878418e",
   "metadata": {},
   "outputs": [],
   "source": [
    "# Let's replace the missing values in the 'Children' column with the mode\n",
    "\n",
    "Data['Children'].fillna(Data['Children'].mode()[0], inplace = True)"
   ]
  },
  {
   "cell_type": "code",
   "execution_count": null,
   "id": "045d0657",
   "metadata": {},
   "outputs": [],
   "source": []
  },
  {
   "cell_type": "code",
   "execution_count": 31,
   "id": "887252b8",
   "metadata": {},
   "outputs": [],
   "source": [
    "# Find the mode in the missing values of the 'Preferred_Cuisine' column\n",
    "\n",
    "Mode = Restaurant_data['Preferred_Cuisine'].mode()"
   ]
  },
  {
   "cell_type": "code",
   "execution_count": 32,
   "id": "0d73d9c7",
   "metadata": {},
   "outputs": [
    {
     "name": "stdout",
     "output_type": "stream",
     "text": [
      "0    Mexican\n",
      "Name: Preferred_Cuisine, dtype: object\n"
     ]
    }
   ],
   "source": [
    "print(Mode)"
   ]
  },
  {
   "cell_type": "code",
   "execution_count": 33,
   "id": "e22a1ae3",
   "metadata": {},
   "outputs": [],
   "source": [
    "# Let's replace the missing values in the 'Preferred_Cuisine' column with the mode\n",
    "\n",
    "Data['Preferred_Cuisine'].fillna(Data['Preferred_Cuisine'].mode()[0], inplace = True)"
   ]
  },
  {
   "cell_type": "code",
   "execution_count": null,
   "id": "6534d72f",
   "metadata": {},
   "outputs": [],
   "source": []
  },
  {
   "cell_type": "code",
   "execution_count": 34,
   "id": "44187f66",
   "metadata": {},
   "outputs": [
    {
     "data": {
      "text/plain": [
       "27.297101449275363"
      ]
     },
     "execution_count": 34,
     "metadata": {},
     "output_type": "execute_result"
    }
   ],
   "source": [
    "# Let's find the mean value of the 'Age' column\n",
    "\n",
    "Data['Age'].mean()"
   ]
  },
  {
   "cell_type": "code",
   "execution_count": 35,
   "id": "2ad0a1b9",
   "metadata": {},
   "outputs": [],
   "source": [
    "# Filling the missing values in 'Age' column with 'Mean' value\n",
    "\n",
    "Data['Age'].fillna(Data['Age'].mean(), inplace = True)"
   ]
  },
  {
   "cell_type": "code",
   "execution_count": null,
   "id": "9199b0f1",
   "metadata": {},
   "outputs": [],
   "source": []
  },
  {
   "cell_type": "code",
   "execution_count": 36,
   "id": "e7d057a0",
   "metadata": {},
   "outputs": [
    {
     "data": {
      "text/plain": [
       "1.1998277347114557"
      ]
     },
     "execution_count": 36,
     "metadata": {},
     "output_type": "execute_result"
    }
   ],
   "source": [
    "# Let' find the mean value of the 'Overall_Rating' column\n",
    "\n",
    "Data['Overall_Rating'].mean()"
   ]
  },
  {
   "cell_type": "code",
   "execution_count": 37,
   "id": "c8662284",
   "metadata": {},
   "outputs": [],
   "source": [
    "# Filling the missing values in 'Overall_Rating' column with 'Mean' value\n",
    "\n",
    "Data['Overall_Rating'].fillna(Data['Overall_Rating'].mean(), inplace = True)"
   ]
  },
  {
   "cell_type": "code",
   "execution_count": null,
   "id": "80ec0d61",
   "metadata": {},
   "outputs": [],
   "source": []
  },
  {
   "cell_type": "code",
   "execution_count": 38,
   "id": "1d6f2369",
   "metadata": {},
   "outputs": [
    {
     "data": {
      "text/html": [
       "<div>\n",
       "<style scoped>\n",
       "    .dataframe tbody tr th:only-of-type {\n",
       "        vertical-align: middle;\n",
       "    }\n",
       "\n",
       "    .dataframe tbody tr th {\n",
       "        vertical-align: top;\n",
       "    }\n",
       "\n",
       "    .dataframe thead th {\n",
       "        text-align: right;\n",
       "    }\n",
       "</style>\n",
       "<table border=\"1\" class=\"dataframe\">\n",
       "  <thead>\n",
       "    <tr style=\"text-align: right;\">\n",
       "      <th></th>\n",
       "      <th>Name</th>\n",
       "      <th>City</th>\n",
       "      <th>State</th>\n",
       "      <th>Cuisine</th>\n",
       "      <th>Marital_Status</th>\n",
       "      <th>Children</th>\n",
       "      <th>Age</th>\n",
       "      <th>Preferred_Cuisine</th>\n",
       "      <th>Overall_Rating</th>\n",
       "    </tr>\n",
       "  </thead>\n",
       "  <tbody>\n",
       "    <tr>\n",
       "      <th>0</th>\n",
       "      <td>Puesto de Gorditas</td>\n",
       "      <td>Ciudad Victoria</td>\n",
       "      <td>Tamaulipas</td>\n",
       "      <td>Mexican</td>\n",
       "      <td>Single</td>\n",
       "      <td>Independent</td>\n",
       "      <td>27.297101</td>\n",
       "      <td>Mexican</td>\n",
       "      <td>1.199828</td>\n",
       "    </tr>\n",
       "    <tr>\n",
       "      <th>1</th>\n",
       "      <td>Cafe Ambar</td>\n",
       "      <td>Ciudad Victoria</td>\n",
       "      <td>Tamaulipas</td>\n",
       "      <td>Mexican</td>\n",
       "      <td>Single</td>\n",
       "      <td>Independent</td>\n",
       "      <td>27.297101</td>\n",
       "      <td>Mexican</td>\n",
       "      <td>1.199828</td>\n",
       "    </tr>\n",
       "    <tr>\n",
       "      <th>2</th>\n",
       "      <td>Church's</td>\n",
       "      <td>Ciudad Victoria</td>\n",
       "      <td>Tamaulipas</td>\n",
       "      <td>Mexican</td>\n",
       "      <td>Single</td>\n",
       "      <td>Independent</td>\n",
       "      <td>27.297101</td>\n",
       "      <td>Mexican</td>\n",
       "      <td>1.199828</td>\n",
       "    </tr>\n",
       "    <tr>\n",
       "      <th>3</th>\n",
       "      <td>Cafe Chaires</td>\n",
       "      <td>San Luis Potosi</td>\n",
       "      <td>San Luis Potosi</td>\n",
       "      <td>Mexican</td>\n",
       "      <td>Single</td>\n",
       "      <td>Independent</td>\n",
       "      <td>27.297101</td>\n",
       "      <td>Mexican</td>\n",
       "      <td>1.199828</td>\n",
       "    </tr>\n",
       "    <tr>\n",
       "      <th>4</th>\n",
       "      <td>McDonalds Centro</td>\n",
       "      <td>Cuernavaca</td>\n",
       "      <td>Morelos</td>\n",
       "      <td>Mexican</td>\n",
       "      <td>Single</td>\n",
       "      <td>Independent</td>\n",
       "      <td>27.297101</td>\n",
       "      <td>Mexican</td>\n",
       "      <td>1.199828</td>\n",
       "    </tr>\n",
       "  </tbody>\n",
       "</table>\n",
       "</div>"
      ],
      "text/plain": [
       "                 Name             City            State  Cuisine  \\\n",
       "0  Puesto de Gorditas  Ciudad Victoria       Tamaulipas  Mexican   \n",
       "1          Cafe Ambar  Ciudad Victoria       Tamaulipas  Mexican   \n",
       "2            Church's  Ciudad Victoria       Tamaulipas  Mexican   \n",
       "3        Cafe Chaires  San Luis Potosi  San Luis Potosi  Mexican   \n",
       "4    McDonalds Centro       Cuernavaca          Morelos  Mexican   \n",
       "\n",
       "  Marital_Status     Children        Age Preferred_Cuisine  Overall_Rating  \n",
       "0         Single  Independent  27.297101           Mexican        1.199828  \n",
       "1         Single  Independent  27.297101           Mexican        1.199828  \n",
       "2         Single  Independent  27.297101           Mexican        1.199828  \n",
       "3         Single  Independent  27.297101           Mexican        1.199828  \n",
       "4         Single  Independent  27.297101           Mexican        1.199828  "
      ]
     },
     "execution_count": 38,
     "metadata": {},
     "output_type": "execute_result"
    }
   ],
   "source": [
    "# Let's view our data again\n",
    "\n",
    "Data.head()"
   ]
  },
  {
   "cell_type": "code",
   "execution_count": 39,
   "id": "4b13dbd4",
   "metadata": {},
   "outputs": [
    {
     "data": {
      "text/html": [
       "<div>\n",
       "<style scoped>\n",
       "    .dataframe tbody tr th:only-of-type {\n",
       "        vertical-align: middle;\n",
       "    }\n",
       "\n",
       "    .dataframe tbody tr th {\n",
       "        vertical-align: top;\n",
       "    }\n",
       "\n",
       "    .dataframe thead th {\n",
       "        text-align: right;\n",
       "    }\n",
       "</style>\n",
       "<table border=\"1\" class=\"dataframe\">\n",
       "  <thead>\n",
       "    <tr style=\"text-align: right;\">\n",
       "      <th></th>\n",
       "      <th>Name</th>\n",
       "      <th>City</th>\n",
       "      <th>State</th>\n",
       "      <th>Cuisine</th>\n",
       "      <th>Marital_Status</th>\n",
       "      <th>Children</th>\n",
       "      <th>Age</th>\n",
       "      <th>Preferred_Cuisine</th>\n",
       "      <th>Overall_Rating</th>\n",
       "    </tr>\n",
       "  </thead>\n",
       "  <tbody>\n",
       "    <tr>\n",
       "      <th>1156</th>\n",
       "      <td>Vips</td>\n",
       "      <td>San Luis Potosi</td>\n",
       "      <td>San Luis Potosi</td>\n",
       "      <td>Mexican</td>\n",
       "      <td>Single</td>\n",
       "      <td>Independent</td>\n",
       "      <td>27.297101</td>\n",
       "      <td>Mexican</td>\n",
       "      <td>1.0</td>\n",
       "    </tr>\n",
       "    <tr>\n",
       "      <th>1157</th>\n",
       "      <td>Vips</td>\n",
       "      <td>San Luis Potosi</td>\n",
       "      <td>San Luis Potosi</td>\n",
       "      <td>Mexican</td>\n",
       "      <td>Single</td>\n",
       "      <td>Independent</td>\n",
       "      <td>27.297101</td>\n",
       "      <td>Mexican</td>\n",
       "      <td>1.0</td>\n",
       "    </tr>\n",
       "    <tr>\n",
       "      <th>1158</th>\n",
       "      <td>Vips</td>\n",
       "      <td>San Luis Potosi</td>\n",
       "      <td>San Luis Potosi</td>\n",
       "      <td>Mexican</td>\n",
       "      <td>Single</td>\n",
       "      <td>Independent</td>\n",
       "      <td>27.297101</td>\n",
       "      <td>Mexican</td>\n",
       "      <td>1.0</td>\n",
       "    </tr>\n",
       "    <tr>\n",
       "      <th>1159</th>\n",
       "      <td>Vips</td>\n",
       "      <td>San Luis Potosi</td>\n",
       "      <td>San Luis Potosi</td>\n",
       "      <td>Mexican</td>\n",
       "      <td>Single</td>\n",
       "      <td>Independent</td>\n",
       "      <td>27.297101</td>\n",
       "      <td>Mexican</td>\n",
       "      <td>1.0</td>\n",
       "    </tr>\n",
       "    <tr>\n",
       "      <th>1160</th>\n",
       "      <td>Vips</td>\n",
       "      <td>San Luis Potosi</td>\n",
       "      <td>San Luis Potosi</td>\n",
       "      <td>Mexican</td>\n",
       "      <td>Single</td>\n",
       "      <td>Independent</td>\n",
       "      <td>27.297101</td>\n",
       "      <td>Mexican</td>\n",
       "      <td>0.0</td>\n",
       "    </tr>\n",
       "  </tbody>\n",
       "</table>\n",
       "</div>"
      ],
      "text/plain": [
       "      Name             City            State  Cuisine Marital_Status  \\\n",
       "1156  Vips  San Luis Potosi  San Luis Potosi  Mexican         Single   \n",
       "1157  Vips  San Luis Potosi  San Luis Potosi  Mexican         Single   \n",
       "1158  Vips  San Luis Potosi  San Luis Potosi  Mexican         Single   \n",
       "1159  Vips  San Luis Potosi  San Luis Potosi  Mexican         Single   \n",
       "1160  Vips  San Luis Potosi  San Luis Potosi  Mexican         Single   \n",
       "\n",
       "         Children        Age Preferred_Cuisine  Overall_Rating  \n",
       "1156  Independent  27.297101           Mexican             1.0  \n",
       "1157  Independent  27.297101           Mexican             1.0  \n",
       "1158  Independent  27.297101           Mexican             1.0  \n",
       "1159  Independent  27.297101           Mexican             1.0  \n",
       "1160  Independent  27.297101           Mexican             0.0  "
      ]
     },
     "execution_count": 39,
     "metadata": {},
     "output_type": "execute_result"
    }
   ],
   "source": [
    "Data.tail()"
   ]
  },
  {
   "cell_type": "code",
   "execution_count": null,
   "id": "e011a079",
   "metadata": {},
   "outputs": [],
   "source": []
  },
  {
   "cell_type": "code",
   "execution_count": 40,
   "id": "283b9217",
   "metadata": {},
   "outputs": [
    {
     "data": {
      "text/plain": [
       "Name                 0\n",
       "City                 0\n",
       "State                0\n",
       "Cuisine              0\n",
       "Marital_Status       0\n",
       "Children             0\n",
       "Age                  0\n",
       "Preferred_Cuisine    0\n",
       "Overall_Rating       0\n",
       "dtype: int64"
      ]
     },
     "execution_count": 40,
     "metadata": {},
     "output_type": "execute_result"
    }
   ],
   "source": [
    "# Let's check if the missing values in our dataset were filled successfully\n",
    "\n",
    "Data.isnull().sum()"
   ]
  },
  {
   "cell_type": "code",
   "execution_count": null,
   "id": "f4f70eec",
   "metadata": {},
   "outputs": [],
   "source": []
  },
  {
   "cell_type": "code",
   "execution_count": 41,
   "id": "ffcb5a16",
   "metadata": {},
   "outputs": [
    {
     "data": {
      "text/plain": [
       "Name                  object\n",
       "City                  object\n",
       "State                 object\n",
       "Cuisine               object\n",
       "Marital_Status        object\n",
       "Children              object\n",
       "Age                  float64\n",
       "Preferred_Cuisine     object\n",
       "Overall_Rating       float64\n",
       "dtype: object"
      ]
     },
     "execution_count": 41,
     "metadata": {},
     "output_type": "execute_result"
    }
   ],
   "source": [
    "# Let's check the dytpe of our dataset\n",
    "\n",
    "Data.dtypes"
   ]
  },
  {
   "cell_type": "code",
   "execution_count": null,
   "id": "aea4a79f",
   "metadata": {},
   "outputs": [],
   "source": []
  },
  {
   "cell_type": "code",
   "execution_count": 42,
   "id": "4319d360",
   "metadata": {},
   "outputs": [],
   "source": [
    "# Let's convert datatype to Integer in the column 'Age'\n",
    "\n",
    "Data['Age'] = Data['Age'].astype('int')"
   ]
  },
  {
   "cell_type": "code",
   "execution_count": 43,
   "id": "475c0708",
   "metadata": {},
   "outputs": [],
   "source": [
    "# Let's convert datatype to Integer in the column 'Overall_Rating'\n",
    "\n",
    "Data['Overall_Rating'] = Data['Overall_Rating'].astype('int')"
   ]
  },
  {
   "cell_type": "code",
   "execution_count": 44,
   "id": "9f3a4cc7",
   "metadata": {},
   "outputs": [
    {
     "data": {
      "text/html": [
       "<div>\n",
       "<style scoped>\n",
       "    .dataframe tbody tr th:only-of-type {\n",
       "        vertical-align: middle;\n",
       "    }\n",
       "\n",
       "    .dataframe tbody tr th {\n",
       "        vertical-align: top;\n",
       "    }\n",
       "\n",
       "    .dataframe thead th {\n",
       "        text-align: right;\n",
       "    }\n",
       "</style>\n",
       "<table border=\"1\" class=\"dataframe\">\n",
       "  <thead>\n",
       "    <tr style=\"text-align: right;\">\n",
       "      <th></th>\n",
       "      <th>Name</th>\n",
       "      <th>City</th>\n",
       "      <th>State</th>\n",
       "      <th>Cuisine</th>\n",
       "      <th>Marital_Status</th>\n",
       "      <th>Children</th>\n",
       "      <th>Age</th>\n",
       "      <th>Preferred_Cuisine</th>\n",
       "      <th>Overall_Rating</th>\n",
       "    </tr>\n",
       "  </thead>\n",
       "  <tbody>\n",
       "    <tr>\n",
       "      <th>0</th>\n",
       "      <td>Puesto de Gorditas</td>\n",
       "      <td>Ciudad Victoria</td>\n",
       "      <td>Tamaulipas</td>\n",
       "      <td>Mexican</td>\n",
       "      <td>Single</td>\n",
       "      <td>Independent</td>\n",
       "      <td>27</td>\n",
       "      <td>Mexican</td>\n",
       "      <td>1</td>\n",
       "    </tr>\n",
       "  </tbody>\n",
       "</table>\n",
       "</div>"
      ],
      "text/plain": [
       "                 Name             City       State  Cuisine Marital_Status  \\\n",
       "0  Puesto de Gorditas  Ciudad Victoria  Tamaulipas  Mexican         Single   \n",
       "\n",
       "      Children  Age Preferred_Cuisine  Overall_Rating  \n",
       "0  Independent   27           Mexican               1  "
      ]
     },
     "execution_count": 44,
     "metadata": {},
     "output_type": "execute_result"
    }
   ],
   "source": [
    "# Let's check if the datatypes were successfully converted\n",
    "\n",
    "Data.head(1)"
   ]
  },
  {
   "cell_type": "code",
   "execution_count": null,
   "id": "2e8ba25a",
   "metadata": {},
   "outputs": [],
   "source": []
  },
  {
   "cell_type": "markdown",
   "id": "1252f2a7",
   "metadata": {},
   "source": [
    "# Checking For Duplicates"
   ]
  },
  {
   "cell_type": "code",
   "execution_count": 45,
   "id": "b31b61be",
   "metadata": {},
   "outputs": [
    {
     "name": "stdout",
     "output_type": "stream",
     "text": [
      "0       False\n",
      "1       False\n",
      "2       False\n",
      "3       False\n",
      "4       False\n",
      "        ...  \n",
      "1156     True\n",
      "1157     True\n",
      "1158     True\n",
      "1159     True\n",
      "1160     True\n",
      "Length: 1871, dtype: bool\n"
     ]
    }
   ],
   "source": [
    "# Let's check if there is any duplicate in our data\n",
    "\n",
    "print(Data.duplicated())"
   ]
  },
  {
   "cell_type": "code",
   "execution_count": 46,
   "id": "32667261",
   "metadata": {},
   "outputs": [],
   "source": [
    "# Let's drop the duplicates in the dataset\n",
    "\n",
    "Data = Data.drop_duplicates()"
   ]
  },
  {
   "cell_type": "code",
   "execution_count": 47,
   "id": "91181a16",
   "metadata": {},
   "outputs": [
    {
     "name": "stdout",
     "output_type": "stream",
     "text": [
      "0      False\n",
      "1      False\n",
      "2      False\n",
      "3      False\n",
      "4      False\n",
      "       ...  \n",
      "323    False\n",
      "324    False\n",
      "325    False\n",
      "0      False\n",
      "5      False\n",
      "Length: 299, dtype: bool\n"
     ]
    }
   ],
   "source": [
    "# Let's check if the duplicates were successfully dropped.\n",
    "\n",
    "print(Data.duplicated())"
   ]
  },
  {
   "cell_type": "code",
   "execution_count": null,
   "id": "199a0af6",
   "metadata": {},
   "outputs": [],
   "source": []
  },
  {
   "cell_type": "markdown",
   "id": "fb11401b",
   "metadata": {},
   "source": [
    "# Find The Shape of Our Dataset (Number of Rows and Columns)"
   ]
  },
  {
   "cell_type": "code",
   "execution_count": 48,
   "id": "6d3dbef2",
   "metadata": {},
   "outputs": [
    {
     "data": {
      "text/plain": [
       "(299, 9)"
      ]
     },
     "execution_count": 48,
     "metadata": {},
     "output_type": "execute_result"
    }
   ],
   "source": [
    "Data.shape"
   ]
  },
  {
   "cell_type": "code",
   "execution_count": 49,
   "id": "b5b6d9c3",
   "metadata": {},
   "outputs": [
    {
     "name": "stdout",
     "output_type": "stream",
     "text": [
      "Numbers of Rows 299\n",
      "Numbers of Columns 9\n"
     ]
    }
   ],
   "source": [
    "print('Numbers of Rows', Data.shape[0])\n",
    "print('Numbers of Columns', Data.shape[1])"
   ]
  },
  {
   "cell_type": "markdown",
   "id": "59cd52ca",
   "metadata": {},
   "source": [
    "### After filling the missing values in our data with the mean and mode values, dropping the duplicates noticed in the data. The number of rows moved from 1871 to 299 and the number of columns moved from 28 to 9. Invariably, the number of rows and columns we have now to continue our analysis are 299 and 9 respectively."
   ]
  },
  {
   "cell_type": "code",
   "execution_count": null,
   "id": "11754330",
   "metadata": {},
   "outputs": [],
   "source": []
  },
  {
   "cell_type": "markdown",
   "id": "3911847b",
   "metadata": {},
   "source": [
    "# Let's Get The Statistics Of The Dataset"
   ]
  },
  {
   "cell_type": "code",
   "execution_count": 50,
   "id": "9ff1b001",
   "metadata": {},
   "outputs": [
    {
     "data": {
      "text/html": [
       "<div>\n",
       "<style scoped>\n",
       "    .dataframe tbody tr th:only-of-type {\n",
       "        vertical-align: middle;\n",
       "    }\n",
       "\n",
       "    .dataframe tbody tr th {\n",
       "        vertical-align: top;\n",
       "    }\n",
       "\n",
       "    .dataframe thead th {\n",
       "        text-align: right;\n",
       "    }\n",
       "</style>\n",
       "<table border=\"1\" class=\"dataframe\">\n",
       "  <thead>\n",
       "    <tr style=\"text-align: right;\">\n",
       "      <th></th>\n",
       "      <th>Age</th>\n",
       "      <th>Overall_Rating</th>\n",
       "    </tr>\n",
       "  </thead>\n",
       "  <tbody>\n",
       "    <tr>\n",
       "      <th>count</th>\n",
       "      <td>299.000000</td>\n",
       "      <td>299.000000</td>\n",
       "    </tr>\n",
       "    <tr>\n",
       "      <th>mean</th>\n",
       "      <td>27.505017</td>\n",
       "      <td>1.000000</td>\n",
       "    </tr>\n",
       "    <tr>\n",
       "      <th>std</th>\n",
       "      <td>6.409081</td>\n",
       "      <td>0.081923</td>\n",
       "    </tr>\n",
       "    <tr>\n",
       "      <th>min</th>\n",
       "      <td>18.000000</td>\n",
       "      <td>0.000000</td>\n",
       "    </tr>\n",
       "    <tr>\n",
       "      <th>25%</th>\n",
       "      <td>27.000000</td>\n",
       "      <td>1.000000</td>\n",
       "    </tr>\n",
       "    <tr>\n",
       "      <th>50%</th>\n",
       "      <td>27.000000</td>\n",
       "      <td>1.000000</td>\n",
       "    </tr>\n",
       "    <tr>\n",
       "      <th>75%</th>\n",
       "      <td>27.000000</td>\n",
       "      <td>1.000000</td>\n",
       "    </tr>\n",
       "    <tr>\n",
       "      <th>max</th>\n",
       "      <td>82.000000</td>\n",
       "      <td>2.000000</td>\n",
       "    </tr>\n",
       "  </tbody>\n",
       "</table>\n",
       "</div>"
      ],
      "text/plain": [
       "              Age  Overall_Rating\n",
       "count  299.000000      299.000000\n",
       "mean    27.505017        1.000000\n",
       "std      6.409081        0.081923\n",
       "min     18.000000        0.000000\n",
       "25%     27.000000        1.000000\n",
       "50%     27.000000        1.000000\n",
       "75%     27.000000        1.000000\n",
       "max     82.000000        2.000000"
      ]
     },
     "execution_count": 50,
     "metadata": {},
     "output_type": "execute_result"
    }
   ],
   "source": [
    "Data.describe()"
   ]
  },
  {
   "cell_type": "markdown",
   "id": "608ffc66",
   "metadata": {},
   "source": [
    "### From the statistics displayed above, we can see the count, mean, min, max etc of the age and overall rating. The mininum, the average, and maximum age in our data are 18, 27 and 82 respectively.\n",
    "\n",
    "### Also, the mininum, the average, and the maximum overall rating in our data are 0, 1 and 2 respectively."
   ]
  },
  {
   "cell_type": "code",
   "execution_count": null,
   "id": "8242236a",
   "metadata": {},
   "outputs": [],
   "source": []
  },
  {
   "cell_type": "code",
   "execution_count": 51,
   "id": "8f0d96aa",
   "metadata": {},
   "outputs": [
    {
     "data": {
      "text/html": [
       "<div>\n",
       "<style scoped>\n",
       "    .dataframe tbody tr th:only-of-type {\n",
       "        vertical-align: middle;\n",
       "    }\n",
       "\n",
       "    .dataframe tbody tr th {\n",
       "        vertical-align: top;\n",
       "    }\n",
       "\n",
       "    .dataframe thead th {\n",
       "        text-align: right;\n",
       "    }\n",
       "</style>\n",
       "<table border=\"1\" class=\"dataframe\">\n",
       "  <thead>\n",
       "    <tr style=\"text-align: right;\">\n",
       "      <th></th>\n",
       "      <th>Name</th>\n",
       "      <th>City</th>\n",
       "      <th>State</th>\n",
       "      <th>Cuisine</th>\n",
       "      <th>Marital_Status</th>\n",
       "      <th>Children</th>\n",
       "      <th>Preferred_Cuisine</th>\n",
       "    </tr>\n",
       "  </thead>\n",
       "  <tbody>\n",
       "    <tr>\n",
       "      <th>count</th>\n",
       "      <td>299</td>\n",
       "      <td>299</td>\n",
       "      <td>299</td>\n",
       "      <td>299</td>\n",
       "      <td>299</td>\n",
       "      <td>299</td>\n",
       "      <td>299</td>\n",
       "    </tr>\n",
       "    <tr>\n",
       "      <th>unique</th>\n",
       "      <td>127</td>\n",
       "      <td>4</td>\n",
       "      <td>3</td>\n",
       "      <td>23</td>\n",
       "      <td>2</td>\n",
       "      <td>3</td>\n",
       "      <td>101</td>\n",
       "    </tr>\n",
       "    <tr>\n",
       "      <th>top</th>\n",
       "      <td>Vips</td>\n",
       "      <td>San Luis Potosi</td>\n",
       "      <td>San Luis Potosi</td>\n",
       "      <td>Mexican</td>\n",
       "      <td>Single</td>\n",
       "      <td>Independent</td>\n",
       "      <td>Mexican</td>\n",
       "    </tr>\n",
       "    <tr>\n",
       "      <th>freq</th>\n",
       "      <td>173</td>\n",
       "      <td>225</td>\n",
       "      <td>225</td>\n",
       "      <td>277</td>\n",
       "      <td>292</td>\n",
       "      <td>288</td>\n",
       "      <td>199</td>\n",
       "    </tr>\n",
       "  </tbody>\n",
       "</table>\n",
       "</div>"
      ],
      "text/plain": [
       "        Name             City            State  Cuisine Marital_Status  \\\n",
       "count    299              299              299      299            299   \n",
       "unique   127                4                3       23              2   \n",
       "top     Vips  San Luis Potosi  San Luis Potosi  Mexican         Single   \n",
       "freq     173              225              225      277            292   \n",
       "\n",
       "           Children Preferred_Cuisine  \n",
       "count           299               299  \n",
       "unique            3               101  \n",
       "top     Independent           Mexican  \n",
       "freq            288               199  "
      ]
     },
     "execution_count": 51,
     "metadata": {},
     "output_type": "execute_result"
    }
   ],
   "source": [
    "Data.describe(include='object')"
   ]
  },
  {
   "cell_type": "markdown",
   "id": "1aee4c26",
   "metadata": {},
   "source": [
    "### There are 209 values seen above.\n",
    "\n",
    "### There are 127 unique values in the Name column, 4 unique values in the City column, 3 unique values in the State column, 23 unique values in the Cuisine column, 2 unique values in the Marital Status  column, 3 unique values in the Children column and 101 unique values in the Preferred Cuisine column.\n",
    "\n",
    "### Vips is the top Name in our data.\n",
    "\n",
    "### San Luis Potosi is the top city in our data.\n",
    "\n",
    "### San Luis Potosi is the top state in our data.\n",
    "\n",
    "### Single is the top marital status in our data.\n",
    "\n",
    "### Independent is the top in the children column.\n",
    "\n",
    "### Mexican is the top preferred cuisine."
   ]
  },
  {
   "cell_type": "code",
   "execution_count": null,
   "id": "976f9ff2",
   "metadata": {},
   "outputs": [],
   "source": []
  },
  {
   "cell_type": "markdown",
   "id": "981c22f9",
   "metadata": {},
   "source": [
    "# Correlation (Positive and Negative correlation)"
   ]
  },
  {
   "cell_type": "code",
   "execution_count": 52,
   "id": "6b179ddb",
   "metadata": {},
   "outputs": [],
   "source": [
    "correlation = Data.corr()"
   ]
  },
  {
   "cell_type": "code",
   "execution_count": 53,
   "id": "46a94384",
   "metadata": {},
   "outputs": [
    {
     "data": {
      "image/png": "[encoded data removed]",
      "text/plain": [
       "<Figure size 1080x720 with 2 Axes>"
      ]
     },
     "metadata": {},
     "output_type": "display_data"
    }
   ],
   "source": [
    "# Let's construct a heatmap to understand the correlation\n",
    "\n",
    "plt.figure(figsize = (15,10))\n",
    "sns.heatmap(Data.corr(), annot = True)\n",
    "plt.title('Correlation Between The Columns', fontsize = 25)\n",
    "plt.show()"
   ]
  },
  {
   "cell_type": "code",
   "execution_count": null,
   "id": "90bbd478",
   "metadata": {},
   "outputs": [],
   "source": []
  },
  {
   "cell_type": "markdown",
   "id": "45843078",
   "metadata": {},
   "source": [
    "# Univariate Analysis------- This means analysis of just one variable"
   ]
  },
  {
   "cell_type": "code",
   "execution_count": 54,
   "id": "1a7aa80c",
   "metadata": {},
   "outputs": [
    {
     "data": {
      "text/html": [
       "<div>\n",
       "<style scoped>\n",
       "    .dataframe tbody tr th:only-of-type {\n",
       "        vertical-align: middle;\n",
       "    }\n",
       "\n",
       "    .dataframe tbody tr th {\n",
       "        vertical-align: top;\n",
       "    }\n",
       "\n",
       "    .dataframe thead th {\n",
       "        text-align: right;\n",
       "    }\n",
       "</style>\n",
       "<table border=\"1\" class=\"dataframe\">\n",
       "  <thead>\n",
       "    <tr style=\"text-align: right;\">\n",
       "      <th></th>\n",
       "      <th>Name</th>\n",
       "      <th>City</th>\n",
       "      <th>State</th>\n",
       "      <th>Cuisine</th>\n",
       "      <th>Marital_Status</th>\n",
       "      <th>Children</th>\n",
       "      <th>Age</th>\n",
       "      <th>Preferred_Cuisine</th>\n",
       "      <th>Overall_Rating</th>\n",
       "    </tr>\n",
       "  </thead>\n",
       "  <tbody>\n",
       "    <tr>\n",
       "      <th>0</th>\n",
       "      <td>Puesto de Gorditas</td>\n",
       "      <td>Ciudad Victoria</td>\n",
       "      <td>Tamaulipas</td>\n",
       "      <td>Mexican</td>\n",
       "      <td>Single</td>\n",
       "      <td>Independent</td>\n",
       "      <td>27</td>\n",
       "      <td>Mexican</td>\n",
       "      <td>1</td>\n",
       "    </tr>\n",
       "  </tbody>\n",
       "</table>\n",
       "</div>"
      ],
      "text/plain": [
       "                 Name             City       State  Cuisine Marital_Status  \\\n",
       "0  Puesto de Gorditas  Ciudad Victoria  Tamaulipas  Mexican         Single   \n",
       "\n",
       "      Children  Age Preferred_Cuisine  Overall_Rating  \n",
       "0  Independent   27           Mexican               1  "
      ]
     },
     "execution_count": 54,
     "metadata": {},
     "output_type": "execute_result"
    }
   ],
   "source": [
    "# Let's view our dataset again\n",
    "\n",
    "Data.head(1)"
   ]
  },
  {
   "cell_type": "code",
   "execution_count": 55,
   "id": "36bfff8c",
   "metadata": {},
   "outputs": [
    {
     "data": {
      "text/plain": [
       "Single     292\n",
       "Married      7\n",
       "Name: Marital_Status, dtype: int64"
      ]
     },
     "execution_count": 55,
     "metadata": {},
     "output_type": "execute_result"
    }
   ],
   "source": [
    "# Let's check the number of the marital status in our data\n",
    "\n",
    "Data['Marital_Status'].value_counts()"
   ]
  },
  {
   "cell_type": "code",
   "execution_count": 56,
   "id": "8aa236b2",
   "metadata": {},
   "outputs": [
    {
     "data": {
      "image/png": "[encoded data removed]",
      "text/plain": [
       "<Figure size 432x288 with 1 Axes>"
      ]
     },
     "metadata": {},
     "output_type": "display_data"
    }
   ],
   "source": [
    "# Let's visualize the data for a clear understanding\n",
    "\n",
    "ax = Data['Marital_Status'].value_counts().plot(kind='bar', title = 'The Number Of Marital Status')\n",
    "ax.set_xlabel('Marital Status')\n",
    "plt.show()"
   ]
  },
  {
   "cell_type": "markdown",
   "id": "e171d74e",
   "metadata": {},
   "source": [
    "### There are more singles in our dataset than married. The singles are more in number in our data."
   ]
  },
  {
   "cell_type": "code",
   "execution_count": null,
   "id": "bf904296",
   "metadata": {},
   "outputs": [],
   "source": []
  },
  {
   "cell_type": "code",
   "execution_count": 57,
   "id": "db589a2d",
   "metadata": {},
   "outputs": [
    {
     "data": {
      "text/plain": [
       "Independent    288\n",
       "Kids             8\n",
       "Dependent        3\n",
       "Name: Children, dtype: int64"
      ]
     },
     "execution_count": 57,
     "metadata": {},
     "output_type": "execute_result"
    }
   ],
   "source": [
    "# Let's check the number of the marital status in our data\n",
    "\n",
    "Data['Children'].value_counts()"
   ]
  },
  {
   "cell_type": "code",
   "execution_count": 58,
   "id": "581732ce",
   "metadata": {},
   "outputs": [
    {
     "data": {
      "image/png": "[encoded data removed]",
      "text/plain": [
       "<Figure size 432x288 with 1 Axes>"
      ]
     },
     "metadata": {},
     "output_type": "display_data"
    }
   ],
   "source": [
    "# Let's visualize the data for a clear understanding\n",
    "\n",
    "ax = Data['Children'].value_counts().plot(kind='bar', title = 'The Number Of Children')\n",
    "ax.set_xlabel('Children')\n",
    "plt.show()"
   ]
  },
  {
   "cell_type": "markdown",
   "id": "c40ad83e",
   "metadata": {},
   "source": [
    "# From the visual above, we can see that there are more independent children in our data."
   ]
  },
  {
   "cell_type": "code",
   "execution_count": null,
   "id": "9506a6e8",
   "metadata": {},
   "outputs": [],
   "source": []
  },
  {
   "cell_type": "code",
   "execution_count": 59,
   "id": "79c35325",
   "metadata": {},
   "outputs": [
    {
     "data": {
      "image/png": "[encoded data removed]",
      "text/plain": [
       "<Figure size 432x288 with 1 Axes>"
      ]
     },
     "metadata": {},
     "output_type": "display_data"
    }
   ],
   "source": [
    "# Let's check the age distribution of the preferred cuisine\n",
    "\n",
    "ax = Data['Age'].plot(kind='hist', title = 'The Preferred Cuisine Age Distribution')\n",
    "ax.set_xlabel('Age')\n",
    "plt.show()"
   ]
  },
  {
   "cell_type": "markdown",
   "id": "3346552d",
   "metadata": {},
   "source": [
    "### The preferred age distribution of the preferred cuisine is between the ranges of 20-30. Meanwhile there is an outlier in this distribution."
   ]
  },
  {
   "cell_type": "code",
   "execution_count": null,
   "id": "6e8dabbd",
   "metadata": {},
   "outputs": [],
   "source": []
  },
  {
   "cell_type": "markdown",
   "id": "6a57f362",
   "metadata": {},
   "source": [
    "# Bivariate Analysis-------- This means comparing two variables"
   ]
  },
  {
   "cell_type": "code",
   "execution_count": 60,
   "id": "ea945709",
   "metadata": {},
   "outputs": [
    {
     "data": {
      "text/html": [
       "<div>\n",
       "<style scoped>\n",
       "    .dataframe tbody tr th:only-of-type {\n",
       "        vertical-align: middle;\n",
       "    }\n",
       "\n",
       "    .dataframe tbody tr th {\n",
       "        vertical-align: top;\n",
       "    }\n",
       "\n",
       "    .dataframe thead th {\n",
       "        text-align: right;\n",
       "    }\n",
       "</style>\n",
       "<table border=\"1\" class=\"dataframe\">\n",
       "  <thead>\n",
       "    <tr style=\"text-align: right;\">\n",
       "      <th></th>\n",
       "      <th>Name</th>\n",
       "      <th>City</th>\n",
       "      <th>State</th>\n",
       "      <th>Cuisine</th>\n",
       "      <th>Marital_Status</th>\n",
       "      <th>Children</th>\n",
       "      <th>Age</th>\n",
       "      <th>Preferred_Cuisine</th>\n",
       "      <th>Overall_Rating</th>\n",
       "    </tr>\n",
       "  </thead>\n",
       "  <tbody>\n",
       "    <tr>\n",
       "      <th>0</th>\n",
       "      <td>Puesto de Gorditas</td>\n",
       "      <td>Ciudad Victoria</td>\n",
       "      <td>Tamaulipas</td>\n",
       "      <td>Mexican</td>\n",
       "      <td>Single</td>\n",
       "      <td>Independent</td>\n",
       "      <td>27</td>\n",
       "      <td>Mexican</td>\n",
       "      <td>1</td>\n",
       "    </tr>\n",
       "  </tbody>\n",
       "</table>\n",
       "</div>"
      ],
      "text/plain": [
       "                 Name             City       State  Cuisine Marital_Status  \\\n",
       "0  Puesto de Gorditas  Ciudad Victoria  Tamaulipas  Mexican         Single   \n",
       "\n",
       "      Children  Age Preferred_Cuisine  Overall_Rating  \n",
       "0  Independent   27           Mexican               1  "
      ]
     },
     "execution_count": 60,
     "metadata": {},
     "output_type": "execute_result"
    }
   ],
   "source": [
    "# Let's view our dataset again\n",
    "\n",
    "Data.head(1)"
   ]
  },
  {
   "cell_type": "code",
   "execution_count": null,
   "id": "5f30d752",
   "metadata": {},
   "outputs": [],
   "source": []
  },
  {
   "cell_type": "code",
   "execution_count": 61,
   "id": "22d7518f",
   "metadata": {},
   "outputs": [
    {
     "data": {
      "image/png": "[encoded data removed]",
      "text/plain": [
       "<Figure size 432x288 with 1 Axes>"
      ]
     },
     "metadata": {},
     "output_type": "display_data"
    }
   ],
   "source": [
    "# Let's check the effects age has on the overall rating\n",
    "\n",
    "Data.plot(kind= 'scatter', x ='Age',\n",
    "          y ='Overall_Rating',\n",
    "          title = 'Age Distribution Vs Overall Rating')\n",
    "plt.show()"
   ]
  },
  {
   "cell_type": "code",
   "execution_count": null,
   "id": "263487b7",
   "metadata": {},
   "outputs": [],
   "source": []
  },
  {
   "cell_type": "markdown",
   "id": "16e7c4f9",
   "metadata": {},
   "source": [
    "# The Highest Overall Rated Restaurant"
   ]
  },
  {
   "cell_type": "code",
   "execution_count": 62,
   "id": "208ff553",
   "metadata": {},
   "outputs": [
    {
     "data": {
      "text/plain": [
       "Cuisine\n",
       "Mexican      277\n",
       "American       1\n",
       "Fast Food      1\n",
       "Seafood        1\n",
       "Regional       1\n",
       "Name: Overall_Rating, dtype: int64"
      ]
     },
     "execution_count": 62,
     "metadata": {},
     "output_type": "execute_result"
    }
   ],
   "source": [
    "# Let's check for the highest overall rated restaurant\n",
    "\n",
    "Data.groupby('Cuisine')['Overall_Rating'].count().sort_values(ascending=False).head()"
   ]
  },
  {
   "cell_type": "code",
   "execution_count": 63,
   "id": "914fda3a",
   "metadata": {},
   "outputs": [
    {
     "data": {
      "image/png": "[encoded data removed]",
      "text/plain": [
       "<Figure size 432x288 with 1 Axes>"
      ]
     },
     "metadata": {},
     "output_type": "display_data"
    }
   ],
   "source": [
    "# Let's visualize the data for a better understanding\n",
    "\n",
    "Data.groupby('Cuisine')['Overall_Rating'].count().sort_values(ascending=False).head().plot(kind='bar')\n",
    "plt.show()"
   ]
  },
  {
   "cell_type": "markdown",
   "id": "78fede6d",
   "metadata": {},
   "source": [
    "### From the visual representation, we can boldly that Mexican is the highest overall rated restaurant among other restaurants."
   ]
  },
  {
   "cell_type": "code",
   "execution_count": null,
   "id": "441ca409",
   "metadata": {},
   "outputs": [],
   "source": []
  },
  {
   "cell_type": "markdown",
   "id": "937dcd51",
   "metadata": {},
   "source": [
    "# The Top Five Most Frequent Cuisines by Age Group"
   ]
  },
  {
   "cell_type": "code",
   "execution_count": 64,
   "id": "51b763a9",
   "metadata": {},
   "outputs": [
    {
     "data": {
      "text/plain": [
       "Age\n",
       "27    253\n",
       "22      6\n",
       "21      5\n",
       "25      5\n",
       "24      4\n",
       "Name: Cuisine, dtype: int64"
      ]
     },
     "execution_count": 64,
     "metadata": {},
     "output_type": "execute_result"
    }
   ],
   "source": [
    "# Let's check for the top five most frequent cuisines by age group\n",
    "\n",
    "Data.groupby('Age')['Cuisine'].count().sort_values(ascending=False).head()"
   ]
  },
  {
   "cell_type": "code",
   "execution_count": 65,
   "id": "f6343bc1",
   "metadata": {},
   "outputs": [
    {
     "data": {
      "image/png": "[encoded data removed]",
      "text/plain": [
       "<Figure size 432x288 with 1 Axes>"
      ]
     },
     "metadata": {},
     "output_type": "display_data"
    }
   ],
   "source": [
    "# Let's the visualize the data for an easy understanding\n",
    "\n",
    "Data.groupby('Age')['Cuisine'].count().sort_values(ascending=False).head(10).plot(kind='bar')\n",
    "plt.show()"
   ]
  },
  {
   "cell_type": "markdown",
   "id": "04ab7679",
   "metadata": {},
   "source": [
    "### The age group '27' had the most occurrences in the most popular cuisines. This means that the age group that frequents the five most popular restaurants is 27."
   ]
  },
  {
   "cell_type": "code",
   "execution_count": null,
   "id": "bc3df2ad",
   "metadata": {},
   "outputs": [],
   "source": []
  },
  {
   "cell_type": "markdown",
   "id": "1b8a4d67",
   "metadata": {},
   "source": [
    "# The Top Five Cities With The Most Restaurants"
   ]
  },
  {
   "cell_type": "code",
   "execution_count": 66,
   "id": "052b193c",
   "metadata": {},
   "outputs": [
    {
     "data": {
      "text/plain": [
       "City\n",
       "San Luis Potosi    225\n",
       "Cuernavaca          37\n",
       "Ciudad Victoria     30\n",
       "Jiutepec             7\n",
       "Name: Cuisine, dtype: int64"
      ]
     },
     "execution_count": 66,
     "metadata": {},
     "output_type": "execute_result"
    }
   ],
   "source": [
    "# Let's check for the Top five cities with the most restaurants\n",
    "\n",
    "Data.groupby('City')['Cuisine'].count().sort_values(ascending=False).head()"
   ]
  },
  {
   "cell_type": "code",
   "execution_count": 67,
   "id": "c377b984",
   "metadata": {},
   "outputs": [
    {
     "data": {
      "image/png": "[encoded data removed]",
      "text/plain": [
       "<Figure size 432x288 with 1 Axes>"
      ]
     },
     "metadata": {},
     "output_type": "display_data"
    }
   ],
   "source": [
    "# Let's the visualize the data for an easy understanding\n",
    "\n",
    "Data.groupby('City')['Cuisine'].count().sort_values(ascending=False).head(10).plot(kind='barh')\n",
    "plt.show()"
   ]
  },
  {
   "cell_type": "markdown",
   "id": "210d324c",
   "metadata": {},
   "source": [
    "### Our data has shown the top five cities with the most restaurants with 'San Luis Potosi' leading. This means that the most restaurants are being situated in San Luis Potosi."
   ]
  },
  {
   "cell_type": "code",
   "execution_count": null,
   "id": "4734c35c",
   "metadata": {},
   "outputs": [],
   "source": []
  },
  {
   "cell_type": "markdown",
   "id": "c140d52d",
   "metadata": {},
   "source": [
    "# The Preferred Cuisine Among Children"
   ]
  },
  {
   "cell_type": "code",
   "execution_count": 68,
   "id": "5a9d9577",
   "metadata": {},
   "outputs": [
    {
     "data": {
      "text/plain": [
       "Children\n",
       "Independent    288\n",
       "Kids             8\n",
       "Dependent        3\n",
       "Name: Preferred_Cuisine, dtype: int64"
      ]
     },
     "execution_count": 68,
     "metadata": {},
     "output_type": "execute_result"
    }
   ],
   "source": [
    "# Let's check for the preferred cuisine among children\n",
    "\n",
    "Data.groupby('Children')['Preferred_Cuisine'].count().sort_values(ascending=False).head()"
   ]
  },
  {
   "cell_type": "code",
   "execution_count": 69,
   "id": "4f2e39a1",
   "metadata": {},
   "outputs": [
    {
     "data": {
      "image/png": "[encoded data removed]",
      "text/plain": [
       "<Figure size 432x288 with 1 Axes>"
      ]
     },
     "metadata": {},
     "output_type": "display_data"
    }
   ],
   "source": [
    "# Let's the visualize the data for an easy understanding\n",
    "\n",
    "Data.groupby('Children')['Preferred_Cuisine'].count().sort_values(ascending=False).head(10).plot(kind='barh')\n",
    "plt.show()"
   ]
  },
  {
   "cell_type": "markdown",
   "id": "45041017",
   "metadata": {},
   "source": [
    "### The visual representation of our data shows the preferred cuisine among chiildren with Independent children topping the chart."
   ]
  },
  {
   "cell_type": "code",
   "execution_count": null,
   "id": "28ade5ec",
   "metadata": {},
   "outputs": [],
   "source": []
  },
  {
   "cell_type": "markdown",
   "id": "a22a6c90",
   "metadata": {},
   "source": [
    "# The Highest Overall Rated Preferred Cuisine"
   ]
  },
  {
   "cell_type": "code",
   "execution_count": 70,
   "id": "7f7a9771",
   "metadata": {},
   "outputs": [
    {
     "data": {
      "text/plain": [
       "Preferred_Cuisine\n",
       "Mexican     199\n",
       "Afghan        1\n",
       "Lebanese      1\n",
       "Persian       1\n",
       "Pacific       1\n",
       "Name: Overall_Rating, dtype: int64"
      ]
     },
     "execution_count": 70,
     "metadata": {},
     "output_type": "execute_result"
    }
   ],
   "source": [
    "# Let's check for the highest overall rated preferred cuisine\n",
    "\n",
    "Data.groupby('Preferred_Cuisine')['Overall_Rating'].count().sort_values(ascending=False).head()"
   ]
  },
  {
   "cell_type": "code",
   "execution_count": 71,
   "id": "f4d40d79",
   "metadata": {},
   "outputs": [
    {
     "data": {
      "image/png": "[encoded data removed]",
      "text/plain": [
       "<Figure size 432x288 with 1 Axes>"
      ]
     },
     "metadata": {},
     "output_type": "display_data"
    }
   ],
   "source": [
    "# Let's the visualize the data for an easy understanding\n",
    "\n",
    "Data.groupby('Preferred_Cuisine')['Overall_Rating'].count().sort_values(ascending=False).head(10).plot(kind='bar')\n",
    "plt.show()"
   ]
  },
  {
   "cell_type": "markdown",
   "id": "a398466a",
   "metadata": {},
   "source": [
    "### Without being told, we can see that 'Mexican' is the most preferred cuisine."
   ]
  },
  {
   "cell_type": "code",
   "execution_count": null,
   "id": "8350eaf7",
   "metadata": {},
   "outputs": [],
   "source": []
  },
  {
   "cell_type": "markdown",
   "id": "9abae12d",
   "metadata": {},
   "source": [
    "# The Top Five States With The Most Restaurants"
   ]
  },
  {
   "cell_type": "code",
   "execution_count": 72,
   "id": "88515e5e",
   "metadata": {},
   "outputs": [
    {
     "data": {
      "text/plain": [
       "State\n",
       "San Luis Potosi    225\n",
       "Morelos             44\n",
       "Tamaulipas          30\n",
       "Name: Preferred_Cuisine, dtype: int64"
      ]
     },
     "execution_count": 72,
     "metadata": {},
     "output_type": "execute_result"
    }
   ],
   "source": [
    "# Let's check for the Top five cities with the most restaurants\n",
    "\n",
    "Data.groupby('State')['Preferred_Cuisine'].count().sort_values(ascending=False).head()"
   ]
  },
  {
   "cell_type": "code",
   "execution_count": 73,
   "id": "e8d8e275",
   "metadata": {},
   "outputs": [
    {
     "data": {
      "text/plain": [
       "<AxesSubplot:ylabel='State'>"
      ]
     },
     "execution_count": 73,
     "metadata": {},
     "output_type": "execute_result"
    },
    {
     "data": {
      "image/png": "[encoded data removed]",
      "text/plain": [
       "<Figure size 432x288 with 1 Axes>"
      ]
     },
     "metadata": {},
     "output_type": "display_data"
    }
   ],
   "source": [
    "# Let's check for the Top five cities with the most restaurants\n",
    "\n",
    "Data.groupby('State')['Preferred_Cuisine'].count().sort_values(ascending=False).head().plot(kind='barh')"
   ]
  },
  {
   "cell_type": "markdown",
   "id": "a3a89e79",
   "metadata": {},
   "source": [
    "### Our data has shown the top five states with the most restaurants with 'San Luis Potosi' leading. This means that the most restaurants are being situated in San Luis Potosi."
   ]
  },
  {
   "cell_type": "code",
   "execution_count": null,
   "id": "b265e530",
   "metadata": {},
   "outputs": [],
   "source": []
  },
  {
   "cell_type": "markdown",
   "id": "80cb17ac",
   "metadata": {},
   "source": [
    "# Key Insights"
   ]
  },
  {
   "cell_type": "markdown",
   "id": "a5e4366e",
   "metadata": {},
   "source": [
    "### 1. The mininum, the average, and maximum age in our data are 18, 27 and 82 respectively."
   ]
  },
  {
   "cell_type": "markdown",
   "id": "3f7468b2",
   "metadata": {},
   "source": [
    "### 2. There are more singles in our dataset than married. The singles are more in number in our data."
   ]
  },
  {
   "cell_type": "markdown",
   "id": "b2a852a2",
   "metadata": {},
   "source": [
    "### 3. Vips is the top Name in our data."
   ]
  },
  {
   "cell_type": "markdown",
   "id": "30e2aaea",
   "metadata": {},
   "source": [
    "### 4. There are more Independent than other children in our data."
   ]
  },
  {
   "cell_type": "markdown",
   "id": "9baf35ee",
   "metadata": {},
   "source": [
    "### 5. Mexican is the Highest Overall Rated Restaurant in our data."
   ]
  },
  {
   "cell_type": "markdown",
   "id": "1b9cf3f9",
   "metadata": {},
   "source": [
    "### 6. The Top Five Most Frequent Cuisines by Age Group are 27, 22, 21, 25, and 24 respectively."
   ]
  },
  {
   "cell_type": "markdown",
   "id": "dd05d16f",
   "metadata": {},
   "source": [
    "### 7. San Luis Potosi is leading the top five cities with the most restaurants."
   ]
  },
  {
   "cell_type": "markdown",
   "id": "4e8f7b11",
   "metadata": {},
   "source": [
    "### 8. The preferred cuisine among chiildren with Independent children topping the chart."
   ]
  },
  {
   "cell_type": "markdown",
   "id": "80316cd4",
   "metadata": {},
   "source": [
    "### 9. San Luis Potosi is the top five states with the most restaurants."
   ]
  },
  {
   "cell_type": "markdown",
   "id": "8ffe291e",
   "metadata": {},
   "source": [
    "### 10. Mexican is the still the highest overall rated preferred cuisine."
   ]
  },
  {
   "cell_type": "code",
   "execution_count": null,
   "id": "0357d821",
   "metadata": {},
   "outputs": [],
   "source": []
  },
  {
   "cell_type": "markdown",
   "id": "3642353f",
   "metadata": {},
   "source": [
    "# Observation and Recommendation"
   ]
  },
  {
   "cell_type": "markdown",
   "id": "21b44ac7",
   "metadata": {},
   "source": [
    "### The dataset used for this analysis is a very small dataset. The data should be updated on intervals which will help in enhancing the insights that will be derived from this data in the future.\n",
    "\n",
    "### From the insights gotten from our data, it is clearly seen that Mexican is the highest overall rated cuisine and preferred cuisine. The other restaurants should be observant  as to what Mexican is doing and improve from there."
   ]
  },
  {
   "cell_type": "code",
   "execution_count": null,
   "id": "4b430861",
   "metadata": {},
   "outputs": [],
   "source": []
  }
 ],
 "metadata": {
  "kernelspec": {
   "display_name": "Python 3 (ipykernel)",
   "language": "python",
   "name": "python3"
  },
  "language_info": {
   "codemirror_mode": {
    "name": "ipython",
    "version": 3
   },
   "file_extension": ".py",
   "mimetype": "text/x-python",
   "name": "python",
   "nbconvert_exporter": "python",
   "pygments_lexer": "ipython3",
   "version": "3.9.12"
  }
 },
 "nbformat": 4,
 "nbformat_minor": 5
}
